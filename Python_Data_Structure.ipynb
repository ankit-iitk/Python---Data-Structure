{
  "nbformat": 4,
  "nbformat_minor": 0,
  "metadata": {
    "colab": {
      "provenance": []
    },
    "kernelspec": {
      "name": "python3",
      "display_name": "Python 3"
    },
    "language_info": {
      "name": "python"
    }
  },
  "cells": [
    {
      "cell_type": "code",
      "execution_count": 5,
      "metadata": {
        "colab": {
          "base_uri": "https://localhost:8080/"
        },
        "collapsed": true,
        "id": "LMYSGgNhOphB",
        "outputId": "56596083-600e-4731-81dd-1f0ed47c8ea2"
      },
      "outputs": [
        {
          "output_type": "stream",
          "name": "stdout",
          "text": [
            "lo World\n",
            "hell\n",
            "loW\n",
            "dlroW olleh\n",
            "drWolh\n"
          ]
        }
      ],
      "source": [
        "# Q.1 Discuss string slicing and provide examples.\n",
        "\n",
        "'''\n",
        "String slicing is a powerful feature in Python that allows you to extract a portion of a string,\n",
        "\n",
        "syntax\n",
        "string[start : stop : step]\n",
        "\n",
        "'''\n",
        "\n",
        "# Examples\n",
        "\n",
        "a =\"hello World\"\n",
        "print(a[3:]) # it starts from 3rd index to the last\n",
        "print(a[:4]) # it starts from the beginning to the 3rd index\n",
        "print(a[2:8:2]) # starts from the 2nd index to the 7th index with the gap of one -one\n",
        "print(a[::-1]) # reverse the string\n",
        "print(a[::-2]) # reverse the string with a gap of one - one\n",
        "\n"
      ]
    },
    {
      "cell_type": "code",
      "source": [
        "# Q.2 Explain the key features of lists in Python\n",
        "'''\n",
        " lists are one of the most commonly used data structures in python, due to their versatility and ease of use.\n",
        " list can store elements of different types, including numbers, strings, objects, and even other lists (nested lists).\n",
        " lists are mutable objects that is we can add, change ,modify and remove elements after it is created\n",
        "\n",
        " The key features of lists in python are\n",
        " 1. Ordered --> lists follows 0 based and negative indexing\n",
        "\n",
        " 2. mutable --> we can add, change ,modify and remove elements after it is created\n",
        "\n",
        " 3. store multiple data types --> A list can store elements of different data types.\n",
        "    You can have a list that contains integers, strings, floats, or even other lists (which creates nested lists).\n",
        "\n",
        " 4. contain duplicate elements --> Lists can contain duplicate elements, meaning the same value can appear multiple times.\n",
        "\n",
        " 5. supports slicing --> you can extract a portion list from slicing\n",
        "\n",
        " 6. contain nested lists\n",
        "\n",
        " 7. Memory efficient\n",
        "\n",
        " 8. supports built-in methods\n",
        "\n",
        "'''\n",
        "\n",
        "# examples\n",
        "\n",
        "# ordered\n",
        "my_list = [1,2,3,4]\n",
        "print(my_list[0])\n",
        "print(my_list[2])\n",
        "\n",
        "print()\n",
        "\n",
        "# mutable\n",
        "my_list.append(100)\n",
        "print(my_list)\n",
        "print()\n",
        "\n",
        "my_list[0] = \"milk\"\n",
        "print(my_list)\n",
        "print()\n",
        "\n",
        "# store multiple data types\n",
        "l = [1,2.5,\"apple\",True,[4,5,6],9+8j]\n",
        "print(l)\n",
        "print()\n",
        "\n",
        "# contain duplicate elements\n",
        "l1 = [1,2,2,2,3,3,3,4,4]\n",
        "print(l1)\n",
        "print()\n",
        "\n",
        "# supports slicing & contain nested list\n",
        "l = [1,3,\"apple\",\"banana\",True, False,9.5,[4,5,6]]\n",
        "print(l[5])\n",
        "print(l[-1])\n",
        "print(l[2:5])\n",
        "print(l[::-1]) # reverse a list\n",
        "print()\n",
        "\n",
        "# supports built in methods\n",
        "l.insert(2,100)\n",
        "print(l)\n",
        "print()\n",
        "\n",
        "l.append(101)\n",
        "l.pop(3)\n",
        "print(l)"
      ],
      "metadata": {
        "colab": {
          "base_uri": "https://localhost:8080/"
        },
        "collapsed": true,
        "id": "E1yzjWe5QTgH",
        "outputId": "cbb86e46-bb50-4a07-ad14-f8060064ce3f"
      },
      "execution_count": 27,
      "outputs": [
        {
          "output_type": "stream",
          "name": "stdout",
          "text": [
            "1\n",
            "3\n",
            "\n",
            "[1, 2, 3, 4, 100]\n",
            "\n",
            "['milk', 2, 3, 4, 100]\n",
            "\n",
            "[1, 2.5, 'apple', True, [4, 5, 6], (9+8j)]\n",
            "\n",
            "[1, 2, 2, 2, 3, 3, 3, 4, 4]\n",
            "\n",
            "False\n",
            "[4, 5, 6]\n",
            "['apple', 'banana', True]\n",
            "[[4, 5, 6], 9.5, False, True, 'banana', 'apple', 3, 1]\n",
            "\n",
            "[1, 3, 100, 'apple', 'banana', True, False, 9.5, [4, 5, 6]]\n",
            "\n",
            "[1, 3, 100, 'banana', True, False, 9.5, [4, 5, 6], 101]\n"
          ]
        }
      ]
    },
    {
      "cell_type": "code",
      "source": [
        "# Q.3 Describe how to access, modify, and delete elements in a list with examples\n",
        "\n",
        "'''\n",
        "Accessing elements --> You access elements of a list using their index, with indices starting at 0\n",
        "Modifying elements --> You can modify elements by assigning a new value to a specific index.\n",
        "Deleting elements --> You can remove elements using del, remove, pop function.\n",
        "'''\n",
        "l = [1,3,\"apple\",\"banana\",True, False, 4+5j, \"orange\",9.5,[4,5,6]]\n",
        "\n",
        "# to access element\n",
        "print(l[4])\n",
        "print(l[-2])\n",
        "print()\n",
        "\n",
        "# to modify element\n",
        "l[0] = \"milk\"\n",
        "print(l)\n",
        "print()\n",
        "\n",
        "# to delete any element in list\n",
        "\n",
        "l1 = [1,2,3,4,5,6]\n",
        "print(l1)\n",
        "\n",
        "del l1[3]\n",
        "print(l1)\n",
        "\n",
        "l1.remove(2)\n",
        "print(l1)\n",
        "\n",
        "l1.pop(-1)\n",
        "print(l1)"
      ],
      "metadata": {
        "colab": {
          "base_uri": "https://localhost:8080/"
        },
        "collapsed": true,
        "id": "P-HHI-7kTfs2",
        "outputId": "0b13720c-7e32-4b44-bd71-8aa61c94077f"
      },
      "execution_count": 29,
      "outputs": [
        {
          "output_type": "stream",
          "name": "stdout",
          "text": [
            "True\n",
            "9.5\n",
            "\n",
            "['milk', 3, 'apple', 'banana', True, False, (4+5j), 'orange', 9.5, [4, 5, 6]]\n",
            "\n",
            "[1, 2, 3, 4, 5, 6]\n",
            "[1, 2, 3, 5, 6]\n",
            "[1, 3, 5, 6]\n",
            "[1, 3, 5]\n"
          ]
        }
      ]
    },
    {
      "cell_type": "code",
      "source": [
        "# Q.4 Compare and contrast tuples and lists with examples.\n",
        "'''\n",
        "1. Mutability\n",
        "    Lists are mutable, means you can change, add, or remove elements after the list is created.\n",
        "    Tuples are immutable, means once a tuple is created, its elements cannot be changed, added, or removed.\n",
        "\n",
        "2. Syntax\n",
        "    For lists we use []\n",
        "    For tuples we use ()\n",
        "\n",
        "3. Performance\n",
        "    Lists are slower as compared to typles\n",
        "    Tuples are faster as compared to lists\n",
        "\n",
        "4. Nested Structures\n",
        "    Lists can contain nested lists or tuples\n",
        "    Tuples can contain nested lists or tuples\n",
        "\n",
        "5. Memory consumption\n",
        "    Lists can consume more memory compared to Tuples\n",
        "    Tuples can consume less memory compared to Lists\n",
        "'''\n",
        "\n",
        "# examples\n",
        "\n",
        "l = [1,2,3,4]\n",
        "t = (1,2,3,4)\n",
        "\n",
        "l.append(5)\n",
        "print(l)\n",
        "print()\n",
        "# we cannot add new element in tuple because tuple is immuatble\n",
        "\n",
        "l1 = [1,2,3,[4,5,6],(7,8,9)]\n",
        "t1 = (1,2,3,(4,5,6),[7,8,9])\n",
        "\n",
        "print(l1)\n",
        "print(t1)\n"
      ],
      "metadata": {
        "colab": {
          "base_uri": "https://localhost:8080/"
        },
        "collapsed": true,
        "id": "C3qWb_unTnI4",
        "outputId": "4633b53c-0a64-40ea-e789-df317a881d14"
      },
      "execution_count": 30,
      "outputs": [
        {
          "output_type": "stream",
          "name": "stdout",
          "text": [
            "[1, 2, 3, 4, 5]\n",
            "\n",
            "[1, 2, 3, [4, 5, 6], (7, 8, 9)]\n",
            "(1, 2, 3, (4, 5, 6), [7, 8, 9])\n"
          ]
        }
      ]
    },
    {
      "cell_type": "code",
      "source": [
        "# Q.5 Describe the key features of sets and provide examples of their use.\n",
        "\n",
        "'''\n",
        "set is a built-in data type that represents an unordered collection of unique elements.\n",
        "\n",
        "The key features of sets are :\n",
        "\n",
        "1. Unordered --> Sets are unordered collections. This means that elements in a set do not have a specific order,\n",
        "   and you cannot access elements by index.\n",
        "\n",
        "2. Unique Elements --> Sets only store unique elements.\n",
        "\n",
        "3. Mutable --> Sets are mutable, meaning you can add and remove elements from a set after it is created.\n",
        "\n",
        "4. No Indexing or Slicing -->  sets are unordered, you cannot index or slice sets like lists or tuples.\n",
        "\n",
        "5. supports mathematical set operation --> like union, intersection, symmetric difference\n",
        "\n",
        "6. supports set comprehension\n",
        "\n",
        "'''\n",
        "\n",
        "# use cases of set\n",
        "\n",
        "# eliminate duplicate elements\n",
        "my_list = [1,2,3,3,3,4,4,5,5,5,5]\n",
        "s = set(my_list)\n",
        "print(s)\n",
        "print()\n",
        "\n",
        "# perform mathematical operations\n",
        "\n",
        "s1 = {1,2,4,6}\n",
        "s2 = {2,4,5,7}\n",
        "print(s1 | s2)\n",
        "print(s1 & s2)"
      ],
      "metadata": {
        "colab": {
          "base_uri": "https://localhost:8080/"
        },
        "id": "Qiqu4b_7g7WH",
        "outputId": "aa6c9bff-bfd5-4469-cbee-0c35490a687b"
      },
      "execution_count": 33,
      "outputs": [
        {
          "output_type": "stream",
          "name": "stdout",
          "text": [
            "{1, 2, 3, 4, 5}\n",
            "\n",
            "{1, 2, 4, 5, 6, 7}\n",
            "{2, 4}\n"
          ]
        }
      ]
    },
    {
      "cell_type": "code",
      "source": [
        "# Q.6 Discuss the use cases of tuples and sets in Python programming\n",
        "\n",
        "'''\n",
        "Use cases of tuples\n",
        "\n",
        "1. Immutable Data --> unchangeable collection of items. Tuple values cannot be changed once they are created\n",
        "2. Used as Dictionary Keys --> Tuples are hashable and can be used as keys in a dictionary\n",
        "3. Efficiency in Iteration --> tuples can be iterated more efficiently than lists.\n",
        "\n",
        "Use cases of sets\n",
        "\n",
        "1. Eliminating Duplicates --> most common uses of sets is to eliminate duplicates from a collection.\n",
        "2. Mathematical Set Operations --> In sets we can perform mathematical sets operations like union, intersection, symmetric difference etc.\n",
        "3. Checking Subset and Superset --> Sets are commonly used for subset and superset operations. You can check if one set is a subset or superset of another\n",
        "\n",
        "\n",
        "'''"
      ],
      "metadata": {
        "colab": {
          "base_uri": "https://localhost:8080/",
          "height": 104
        },
        "collapsed": true,
        "id": "eE7pwm80i3US",
        "outputId": "a14c1176-3e9a-47ec-f1d9-547b35ce9ddd"
      },
      "execution_count": 34,
      "outputs": [
        {
          "output_type": "execute_result",
          "data": {
            "text/plain": [
              "'\\nUse cases of tuples\\n\\n1. Immutable Data --> unchangeable collection of items. Tuple values cannot be changed once they are created \\n2. Used as Dictionary Keys --> Tuples are hashable and can be used as keys in a dictionary\\n3. Efficiency in Iteration --> tuples can be iterated more efficiently than lists.\\n\\nUse cases of sets\\n\\n1. Eliminating Duplicates --> most common uses of sets is to eliminate duplicates from a collection.\\n2. Mathematical Set Operations --> In sets we can perform mathematical sets operations like union, intersection, symmetric difference etc.\\n3. Checking Subset and Superset --> Sets are commonly used for subset and superset operations. You can check if one set is a subset or superset of another\\n\\n\\n'"
            ],
            "application/vnd.google.colaboratory.intrinsic+json": {
              "type": "string"
            }
          },
          "metadata": {},
          "execution_count": 34
        }
      ]
    },
    {
      "cell_type": "code",
      "source": [
        "# Q.7 Describe how to add, modify, and delete items in a dictionary with examples\n",
        "'''\n",
        "A dictionary is an unordered collection of key-value pairs, where each key is unique.\n",
        "Dictionaries are mutable, you can add,remove and modify element after it created\n",
        "\n",
        "Adding items to a dictionary\n",
        "You can add items to a dictionary by assigning a value to a new key\n",
        "\n",
        "Modifying Items in a Dictionary\n",
        "You can add items to a dictionary by assigning a value to a new key\n",
        "\n",
        "Deleting Items from a Dictionary\n",
        "To delete items from a dictionary, we can use del, pop, clear function\n",
        "'''\n",
        "\n",
        "# examples\n",
        "\n",
        "d ={\n",
        "    \"name\" : \"John\",\n",
        "    \"age\" : 32\n",
        "}\n",
        "\n",
        "# to add items\n",
        "d[\"college\"] = \"Standford\"\n",
        "print(d)\n",
        "print()\n",
        "\n",
        "# to modify items\n",
        "d[\"name\"] = \"Jethalal\"\n",
        "print(d)\n",
        "print()\n",
        "\n",
        "# to delete any element\n",
        "del d[\"college\"]\n",
        "print(d)\n"
      ],
      "metadata": {
        "colab": {
          "base_uri": "https://localhost:8080/"
        },
        "collapsed": true,
        "id": "ajFKawlOl_8K",
        "outputId": "9298b114-ab4d-490c-8b2d-43754e8100e3"
      },
      "execution_count": 39,
      "outputs": [
        {
          "output_type": "stream",
          "name": "stdout",
          "text": [
            "{'name': 'John', 'age': 32, 'college': 'Standford'}\n",
            "\n",
            "{'name': 'Jethalal', 'age': 32, 'college': 'Standford'}\n",
            "\n",
            "{'name': 'Jethalal', 'age': 32}\n"
          ]
        }
      ]
    },
    {
      "cell_type": "code",
      "source": [
        "# Q.8 Discuss the importance of dictionary keys being immutable and provide examples.\n",
        "\n",
        "'''\n",
        "Importance of dictionary keys being immutable\n",
        "\n",
        "1. Hashability\n",
        "    Dictionaries use a hash table to store key-value pairs.A key’s hash value is computed when it is inserted\n",
        "    into the dictionary and must remain consistent for the entire lifetime of the key.\n",
        "\n",
        "    If the key is mutable (i.e., it can change its value during its lifetime), its hash value could change.\n",
        "\n",
        "2. Consistency of Key Lookup\n",
        "    If a mutable object were allowed as a key, its state could change, leading to different hash values during subsequent lookups.\n",
        "3. Efficiency\n",
        "    Immutable types (like strings, numbers, and tuples) provide a stable and efficient hashing mechanism.\n",
        "'''\n",
        "\n",
        "# using string a key\n",
        "\n",
        "d = {\n",
        "    \"name\" : \"Bhide\",\n",
        "    \"designtion\" : \"teacher\"\n",
        "\n",
        "}\n",
        "print(d[\"name\"])\n",
        "print()\n",
        "\n",
        "# using tuple as a key\n",
        "d1 = {\n",
        "    (\"a\",\"b\") : \"If both a and b are +ve they are in first quad\",\n",
        "    (\"c\",\"d\") : \"If both c and d are -ve they are in third quad\"\n",
        "\n",
        "}\n",
        "\n",
        "print(d1[(\"a\",\"b\")])\n",
        "print(d1[(\"c\",\"d\")])"
      ],
      "metadata": {
        "colab": {
          "base_uri": "https://localhost:8080/"
        },
        "collapsed": true,
        "id": "b9nuCeNRnxIl",
        "outputId": "1836f3c3-4d71-4405-e220-494175a46b3f"
      },
      "execution_count": 43,
      "outputs": [
        {
          "output_type": "stream",
          "name": "stdout",
          "text": [
            "Bhide\n",
            "\n",
            "If both a and b are +ve they are in first quad\n",
            "If both c and d are -ve they are in third quad\n"
          ]
        }
      ]
    },
    {
      "cell_type": "code",
      "source": [],
      "metadata": {
        "id": "pud-R8iTq349"
      },
      "execution_count": null,
      "outputs": []
    }
  ]
}